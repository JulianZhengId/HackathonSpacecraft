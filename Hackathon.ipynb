{
 "cells": [
  {
   "cell_type": "markdown",
   "id": "aeb37d38",
   "metadata": {},
   "source": [
    "# Import Libraries"
   ]
  },
  {
   "cell_type": "code",
   "execution_count": null,
   "id": "6c93063e",
   "metadata": {},
   "outputs": [],
   "source": [
    "import numpy as np\n",
    "import cv2\n",
    "import random\n",
    "import time\n",
    "import math"
   ]
  },
  {
   "cell_type": "code",
   "execution_count": 1,
   "id": "5bf4e957",
   "metadata": {},
   "outputs": [],
   "source": [
    "import gym\n",
    "from stable_baselines3 import PPO\n",
    "from stable_baselines3.common.evaluation import evaluate_policy\n",
    "from gym import spaces"
   ]
  },
  {
   "cell_type": "markdown",
   "id": "35647c4d",
   "metadata": {},
   "source": [
    "# Helper Functions"
   ]
  },
  {
   "cell_type": "code",
   "execution_count": 3,
   "id": "4dfc19b4",
   "metadata": {},
   "outputs": [],
   "source": [
    "#functions\n",
    "def collision_landing_pad(landing_pad_position, score):\n",
    "    terminate = True\n",
    "    score += 10\n",
    "    return score, terminate\n",
    "\n",
    "def collision_with_boundaries(snake_head):\n",
    "    if snake_head[0]>=500 or snake_head[0]<0 or snake_head[1]>=500 or snake_head[1]<0 :\n",
    "        return 1\n",
    "    else:\n",
    "        return 0\n",
    "\n",
    "def collision_with_self(snake_position):\n",
    "    snake_head = snake_position[0]\n",
    "    if snake_head in snake_position[1:]:\n",
    "        return 1\n",
    "    else:\n",
    "        return 0"
   ]
  },
  {
   "cell_type": "markdown",
   "id": "c738f501",
   "metadata": {},
   "source": [
    "# Custom Environment"
   ]
  },
  {
   "cell_type": "code",
   "execution_count": 5,
   "id": "aeb2c2e8",
   "metadata": {},
   "outputs": [],
   "source": [
    "class SpacecraftEnv(gym.Env):\n",
    "    \"\"\"Custom Environment that follows gym interface.\"\"\"\n",
    "\n",
    "    metadata = {\"render.modes\": [\"human\"]}\n",
    "\n",
    "    def __init__(self, gravity: float = -9.81):\n",
    "        super().__init__()\n",
    "        \n",
    "        #gravity\n",
    "        self.gravity = gravity\n",
    "        \n",
    "        #wind power\n",
    "        \n",
    "        #turbulence\n",
    "        \n",
    "        self.action_space = spaces.Discrete(4)\n",
    "        self.observation_space = spaces.Box(low=0, high=255, shape=(8,), dtype=np.uint8)\n",
    "\n",
    "    def step(self, action):\n",
    "        #Calculation\n",
    "        \n",
    "                \n",
    "        #RENDERING\n",
    "        cv2.imshow('Spacecraft Env', self.img)\n",
    "        cv2.waitKey(1)\n",
    "        self.img = np.zeros((500, 500, 3), dtype='uint8')\n",
    "        #Display Rocket\n",
    "        #Display Landing Pad\n",
    "        \n",
    "        #REWARD\n",
    "\n",
    "        #TERMINATION\n",
    "        \n",
    "        \n",
    "        return observation, self.reward, self.terminated, info\n",
    "\n",
    "    def reset(self):\n",
    "        self.img = np.zeros((500, 500, 3), dtype='uint8')\n",
    "        \n",
    "        #rocket inital data\n",
    "        self.rocket_mass = 1000 #float mass\n",
    "        self.rocket_position = [250, 350] #vec2 position\n",
    "        self.rocket_velocity = [-25, -25] #vec2 velocity\n",
    "        #float angle\n",
    "        #float angular velocity\n",
    "        #bool is_touching_pad\n",
    "        \n",
    "        #landing pad initial data\n",
    "        #vec2 position\n",
    "        #float width\n",
    "        #float height\n",
    "        \n",
    "        #general data\n",
    "        self.terminated = False\n",
    "        info = {}\n",
    "        self.reward = 0\n",
    "        \n",
    "        return observation\n",
    "\n",
    "    def render(self, mode=\"human\"):\n",
    "        return\n",
    "\n",
    "    def close(self):\n",
    "        cv2.destroyAllWindows()"
   ]
  },
  {
   "cell_type": "code",
   "execution_count": 7,
   "id": "b537f8a8",
   "metadata": {},
   "outputs": [],
   "source": [
    "# steps:\n",
    "# 1. need to know about the rocket \n",
    "#    - continuous or discrete: Box(2) or Discrete(4)\n",
    "#    - wind power and turbulence\n",
    "#    - which engine is malfunction\n",
    "#    - gravity\n",
    "# 2. data initialization and try rendering with opencv\n",
    "# 3. apply force and impulse\n",
    "#    - power engine (left, middle, right)\n",
    "# 4. euler step or heun ?\n",
    "# 5. define variables to track in observation_space (8?)\n",
    "#    - delta rocket position to landing pad (2)\n",
    "#    - velocity xy (2)\n",
    "#    - angle (1)\n",
    "#    - angular_velocity (1)\n",
    "#    - is_touching__pad (2?)\n",
    "# 6. define reward:\n",
    "#    - decreased/increased related to the distance to landing pad\n",
    "#    - decreased the longer the rocket in the air\n",
    "#    - decreased the more the rocket is tilted\n",
    "#    - increased score when rocket touch the ground \n",
    "#    - increased/decrease the slower/faster the rocket is moving\n",
    "#    - decrease each time the engine firing\n",
    "# 7. termination aspects\n",
    "#    - check if rocket out of frame\n",
    "#    - check if rocket position lower than landing pad\n",
    "#    - check collision with landing pad"
   ]
  }
 ],
 "metadata": {
  "kernelspec": {
   "display_name": "Python 3 (ipykernel)",
   "language": "python",
   "name": "python3"
  },
  "language_info": {
   "codemirror_mode": {
    "name": "ipython",
    "version": 3
   },
   "file_extension": ".py",
   "mimetype": "text/x-python",
   "name": "python",
   "nbconvert_exporter": "python",
   "pygments_lexer": "ipython3",
   "version": "3.10.9"
  }
 },
 "nbformat": 4,
 "nbformat_minor": 5
}
